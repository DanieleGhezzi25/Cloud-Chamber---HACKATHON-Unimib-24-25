{
 "cells": [
  {
   "cell_type": "code",
   "execution_count": 30,
   "id": "initial_id",
   "metadata": {
    "collapsed": true
   },
   "outputs": [
    {
     "name": "stdout",
     "output_type": "stream",
     "text": [
      "Ultralytics YOLOv8.2.76  Python-3.11.8 torch-2.4.0+cpu CPU (Intel Core(TM) i3-5010U 2.10GHz)\n",
      "Setup complete  (4 CPUs, 11.9 GB RAM, 170.8/223.0 GB disk)\n"
     ]
    }
   ],
   "source": [
    "import os\n",
    "import shutil\n",
    "from glob import glob\n",
    "import cv2\n",
    "import keyboard\n",
    "from IPython import display\n",
    "import ultralytics\n",
    "from ultralytics import YOLO\n",
    "\n",
    "\n",
    "def save_traces(path_img_directory, path_traces_directory, probability_treshold = 0.5): \n",
    "    \n",
    "    ''' \n",
    "    This function saves the images which contain traces in a new directory.\n",
    "    The labels directory (.txt files) must be in the images directory and images must be saved as follows: image1.jpg, image2.jpg, image3.jpg, etc. The function uses \"os\", \"shutil\" and \"glob\" libraries to work.\n",
    "    :param path_img_directory: path to the directory where the images are stored (after Yolo algorithm had run).\n",
    "    :param path_traces_directory: path to the directory where the images with traces will be stored (if it doesn't exist, it will be created).\n",
    "    :param probability_treshold: probability treshold to select a trace, set to 0.5 by default.\n",
    "    :return: nothing\n",
    "    '''\n",
    "    \n",
    "    imgnames = glob(fr'{path_img_directory}\\*.jpg')\n",
    "    probs = {}\n",
    "\n",
    "    for imgname in imgnames:\n",
    "        index = int(imgname[-5:-4])\n",
    "        labelfile = os.path.join(rf\"{path_img_directory}\\labels\", f\"image{index}.txt\")\n",
    "        with open(labelfile, \"r\") as f:\n",
    "            lines = f.readlines()\n",
    "            outcomes = {}\n",
    "            for line in lines:\n",
    "                # read number and string in line\n",
    "                number, string = line.split(\" \", 1)\n",
    "                outcomes[string] = float(number)\n",
    "            probs[index] = outcomes\n",
    "            \n",
    "    if os.path.exists(path_traces_directory) == False:\n",
    "        os.mkdir(path_traces_directory)\n",
    "\n",
    "    for index, outcomes in probs.items():\n",
    "        if outcomes['trace_frames\\n'] > probability_treshold:\n",
    "            shutil.copy2(rf'{path_img_directory}\\image{index}.jpg', path_traces_directory)\n",
    "    \n",
    "    return\n",
    "\n",
    "\n",
    "def record_video(delta_frame = 5):\n",
    "    \n",
    "    '''\n",
    "    Record a video using a camera (we will use \"Camo Studio\" and a smartphone as a camera).\n",
    "    Press \"q\" to stop recording.\n",
    "    The function uses \"cv2\" and \"keyboard\" libraries to work.\n",
    "    :params: delta_frame: number of frames to skip\n",
    "    :return: frames: frames of the video\n",
    "    '''\n",
    "    \n",
    "    cap = cv2.VideoCapture(1)\n",
    "    i=0\n",
    "    i_counter = 0\n",
    "    frames = []\n",
    "    \n",
    "    while True:\n",
    "        \n",
    "        ret, frame = cap.read()\n",
    "        \n",
    "        if i_counter % delta_frame == 0: frames.append(frame)\n",
    "        \n",
    "        i_counter += 1\n",
    "        \n",
    "        if keyboard.is_pressed('q'):\n",
    "            break\n",
    "    \n",
    "    cap.release()\n",
    "    \n",
    "    return frames\n",
    "\n",
    "display.clear_output()\n",
    "ultralytics.checks()"
   ]
  },
  {
   "cell_type": "code",
   "outputs": [],
   "source": [
    "frames = record_video(delta_frame=5)"
   ],
   "metadata": {
    "collapsed": false,
    "ExecuteTime": {
     "end_time": "2024-09-12T16:42:15.542185Z",
     "start_time": "2024-09-12T16:42:09.637411Z"
    }
   },
   "id": "5f791c566dea0314",
   "execution_count": 31
  },
  {
   "cell_type": "code",
   "outputs": [
    {
     "name": "stdout",
     "output_type": "stream",
     "text": [
      "0: 128x128 nothing_frames 1.00, doubt_frames 0.00, trace_frames 0.00, 153.3ms\n",
      "1: 128x128 nothing_frames 1.00, doubt_frames 0.00, trace_frames 0.00, 153.3ms\n",
      "2: 128x128 nothing_frames 1.00, doubt_frames 0.00, trace_frames 0.00, 153.3ms\n",
      "3: 128x128 nothing_frames 1.00, doubt_frames 0.00, trace_frames 0.00, 153.3ms\n",
      "4: 128x128 nothing_frames 1.00, doubt_frames 0.00, trace_frames 0.00, 153.3ms\n",
      "5: 128x128 nothing_frames 1.00, doubt_frames 0.00, trace_frames 0.00, 153.3ms\n",
      "6: 128x128 nothing_frames 1.00, doubt_frames 0.00, trace_frames 0.00, 153.3ms\n",
      "7: 128x128 nothing_frames 1.00, doubt_frames 0.00, trace_frames 0.00, 153.3ms\n",
      "8: 128x128 nothing_frames 1.00, doubt_frames 0.00, trace_frames 0.00, 153.3ms\n",
      "9: 128x128 nothing_frames 1.00, doubt_frames 0.00, trace_frames 0.00, 153.3ms\n",
      "10: 128x128 nothing_frames 1.00, doubt_frames 0.00, trace_frames 0.00, 153.3ms\n",
      "11: 128x128 nothing_frames 1.00, doubt_frames 0.00, trace_frames 0.00, 153.3ms\n",
      "12: 128x128 nothing_frames 1.00, doubt_frames 0.00, trace_frames 0.00, 153.3ms\n",
      "13: 128x128 nothing_frames 1.00, doubt_frames 0.00, trace_frames 0.00, 153.3ms\n",
      "14: 128x128 nothing_frames 1.00, doubt_frames 0.00, trace_frames 0.00, 153.3ms\n",
      "15: 128x128 nothing_frames 1.00, doubt_frames 0.00, trace_frames 0.00, 153.3ms\n",
      "16: 128x128 nothing_frames 1.00, doubt_frames 0.00, trace_frames 0.00, 153.3ms\n",
      "17: 128x128 nothing_frames 1.00, doubt_frames 0.00, trace_frames 0.00, 153.3ms\n",
      "18: 128x128 nothing_frames 1.00, doubt_frames 0.00, trace_frames 0.00, 153.3ms\n",
      "19: 128x128 nothing_frames 1.00, doubt_frames 0.00, trace_frames 0.00, 153.3ms\n",
      "20: 128x128 nothing_frames 1.00, doubt_frames 0.00, trace_frames 0.00, 153.3ms\n",
      "21: 128x128 nothing_frames 1.00, doubt_frames 0.00, trace_frames 0.00, 153.3ms\n",
      "22: 128x128 nothing_frames 1.00, doubt_frames 0.00, trace_frames 0.00, 153.3ms\n",
      "23: 128x128 nothing_frames 1.00, doubt_frames 0.00, trace_frames 0.00, 153.3ms\n",
      "24: 128x128 nothing_frames 1.00, doubt_frames 0.00, trace_frames 0.00, 153.3ms\n",
      "25: 128x128 nothing_frames 1.00, doubt_frames 0.00, trace_frames 0.00, 153.3ms\n",
      "26: 128x128 nothing_frames 1.00, doubt_frames 0.00, trace_frames 0.00, 153.3ms\n",
      "27: 128x128 nothing_frames 1.00, doubt_frames 0.00, trace_frames 0.00, 153.3ms\n",
      "28: 128x128 nothing_frames 1.00, doubt_frames 0.00, trace_frames 0.00, 153.3ms\n",
      "29: 128x128 nothing_frames 1.00, doubt_frames 0.00, trace_frames 0.00, 153.3ms\n",
      "30: 128x128 nothing_frames 1.00, doubt_frames 0.00, trace_frames 0.00, 153.3ms\n",
      "31: 128x128 nothing_frames 1.00, doubt_frames 0.00, trace_frames 0.00, 153.3ms\n",
      "32: 128x128 nothing_frames 1.00, doubt_frames 0.00, trace_frames 0.00, 153.3ms\n",
      "33: 128x128 nothing_frames 1.00, doubt_frames 0.00, trace_frames 0.00, 153.3ms\n",
      "34: 128x128 nothing_frames 1.00, doubt_frames 0.00, trace_frames 0.00, 153.3ms\n",
      "Speed: 26.0ms preprocess, 153.3ms inference, 0.0ms postprocess per image at shape (1, 3, 128, 128)\n",
      "Results saved to \u001B[1mC:\\Users\\Black\\PycharmProjects\\MachineLearning\\Cloud Chamber\\YOLOv8\\Yolo_Run\\Run2\u001B[0m\n",
      "35 labels saved to C:\\Users\\Black\\PycharmProjects\\MachineLearning\\Cloud Chamber\\YOLOv8\\Yolo_Run\\Run2\\labels\n"
     ]
    }
   ],
   "source": [
    "path_directory = rf'C:\\Users\\Black\\PycharmProjects\\MachineLearning\\Cloud Chamber\\YOLOv8\\Yolo_Run'\n",
    "nome_directory = rf'Run2'\n",
    "\n",
    "model = YOLO(\"YOLO-CC-V1.pt\")\n",
    "\n",
    "results = model(frames, conf=0.25, task=\"classify\", mode=\"predict\", save=True, save_txt=True, save_conf=True, save_crop=False, project=path_directory, name=nome_directory)"
   ],
   "metadata": {
    "collapsed": false,
    "ExecuteTime": {
     "end_time": "2024-09-12T16:42:37.085678Z",
     "start_time": "2024-09-12T16:42:22.584934Z"
    }
   },
   "id": "b45b54b5a1cc6604",
   "execution_count": 32
  },
  {
   "cell_type": "code",
   "outputs": [],
   "source": [
    "path_img = rf'{path_directory}\\{nome_directory}'\n",
    "path_traces = rf'{path_directory}\\{nome_directory}\\Traces_{nome_directory}'\n",
    "\n",
    "save_traces(path_img, path_traces, 0.5)"
   ],
   "metadata": {
    "collapsed": false,
    "ExecuteTime": {
     "end_time": "2024-09-12T16:43:14.793368Z",
     "start_time": "2024-09-12T16:43:14.765230Z"
    }
   },
   "id": "e9ca58629d2414b5",
   "execution_count": 33
  }
 ],
 "metadata": {
  "kernelspec": {
   "display_name": "Python 3",
   "language": "python",
   "name": "python3"
  },
  "language_info": {
   "codemirror_mode": {
    "name": "ipython",
    "version": 2
   },
   "file_extension": ".py",
   "mimetype": "text/x-python",
   "name": "python",
   "nbconvert_exporter": "python",
   "pygments_lexer": "ipython2",
   "version": "2.7.6"
  }
 },
 "nbformat": 4,
 "nbformat_minor": 5
}
